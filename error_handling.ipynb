{
 "cells": [
  {
   "cell_type": "code",
   "execution_count": null,
   "metadata": {},
   "outputs": [],
   "source": [
    "try:\n",
    "    result = 10+10\n",
    "\n",
    "except:\n",
    "    print(\"something is wrong..\")\n",
    "else:\n",
    "    print (\"Add went well\")\n",
    "    print(result)"
   ]
  },
  {
   "cell_type": "code",
   "execution_count": null,
   "metadata": {},
   "outputs": [],
   "source": [
    "result"
   ]
  },
  {
   "cell_type": "code",
   "execution_count": null,
   "metadata": {},
   "outputs": [],
   "source": [
    "try:\n",
    "    f=open('testfile','r')\n",
    "    f.write(\"This is a line\")\n",
    "\n",
    "except TypeError:\n",
    "    print(\"There is a typeerror\")\n",
    "except OSError:\n",
    "    print (\"There is an OS Error , I/O Error\")\n",
    "\n",
    "finally:\n",
    "    print(\"I always run\")"
   ]
  },
  {
   "cell_type": "code",
   "execution_count": null,
   "metadata": {},
   "outputs": [],
   "source": [
    "def ask_int():\n",
    "    while True:\n",
    "        try:\n",
    "            res=int(input('please enter integer :'))\n",
    "\n",
    "        except:\n",
    "            print(\"Thats not a number :\")\n",
    "            continue\n",
    "        else:\n",
    "            print(\"Valid Int\")\n",
    "            break\n",
    "        finally:\n",
    "            print(\"end of try/except/finally\")"
   ]
  },
  {
   "cell_type": "code",
   "execution_count": 2,
   "metadata": {},
   "outputs": [
    {
     "name": "stdout",
     "output_type": "stream",
     "text": [
      "please enter integer :k\n",
      "Thats not a number :\n",
      "end of try/except/finally\n",
      "please enter integer :k\n",
      "Thats not a number :\n",
      "end of try/except/finally\n",
      "please enter integer :l\n",
      "Thats not a number :\n",
      "end of try/except/finally\n",
      "please enter integer :a\n",
      "Thats not a number :\n",
      "end of try/except/finally\n",
      "please enter integer :1\n",
      "Valid Int\n",
      "end of try/except/finally\n"
     ]
    }
   ],
   "source": [
    "ask_int()\n",
    "\n"
   ]
  },
  {
   "cell_type": "code",
   "execution_count": null,
   "metadata": {},
   "outputs": [],
   "source": []
  },
  {
   "cell_type": "code",
   "execution_count": null,
   "metadata": {},
   "outputs": [],
   "source": []
  },
  {
   "cell_type": "code",
   "execution_count": null,
   "metadata": {},
   "outputs": [],
   "source": []
  },
  {
   "cell_type": "code",
   "execution_count": null,
   "metadata": {},
   "outputs": [],
   "source": []
  }
 ],
 "metadata": {
  "kernelspec": {
   "display_name": "Python 3",
   "language": "python",
   "name": "python3"
  },
  "language_info": {
   "codemirror_mode": {
    "name": "ipython",
    "version": 3
   },
   "file_extension": ".py",
   "mimetype": "text/x-python",
   "name": "python",
   "nbconvert_exporter": "python",
   "pygments_lexer": "ipython3",
   "version": "3.7.1"
  }
 },
 "nbformat": 4,
 "nbformat_minor": 2
}
