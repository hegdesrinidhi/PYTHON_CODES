{
 "cells": [
  {
   "cell_type": "markdown",
   "metadata": {},
   "source": [
    "# Errors and Exceptions Homework"
   ]
  },
  {
   "cell_type": "markdown",
   "metadata": {},
   "source": [
    "### Problem 1\n",
    "Handle the exception thrown by the code below by using <code>try</code> and <code>except</code> blocks."
   ]
  },
  {
   "cell_type": "code",
   "execution_count": 2,
   "metadata": {},
   "outputs": [
    {
     "name": "stdout",
     "output_type": "stream",
     "text": [
      "Its expecting Integer\n",
      "End of loop\n",
      "Its expecting Integer\n",
      "End of loop\n",
      "Its expecting Integer\n",
      "End of loop\n",
      "1\n",
      "End of loop\n"
     ]
    }
   ],
   "source": [
    "for i in ['a','b','c',1]:\n",
    "    try:\n",
    "        print(i**2)\n",
    "    except:\n",
    "        print(\"Its expecting Integer\")\n",
    "    finally:\n",
    "        print(\"End of loop\")"
   ]
  },
  {
   "cell_type": "markdown",
   "metadata": {},
   "source": [
    "### Problem 2\n",
    "Handle the exception thrown by the code below by using <code>try</code> and <code>except</code> blocks. Then use a <code>finally</code> block to print 'All Done.'"
   ]
  },
  {
   "cell_type": "code",
   "execution_count": 4,
   "metadata": {},
   "outputs": [
    {
     "name": "stdout",
     "output_type": "stream",
     "text": [
      "5.0\n",
      "All done\n"
     ]
    }
   ],
   "source": [
    "x = 5\n",
    "y = 1\n",
    "try:\n",
    "    z = x/y\n",
    "except ZeroDivisionError                         :\n",
    "    print(\"Cannot Divide by 0\") \n",
    "else:\n",
    "    print(z)\n",
    "finally:\n",
    "    print('All done')"
   ]
  },
  {
   "cell_type": "markdown",
   "metadata": {},
   "source": [
    "### Problem 3\n",
    "Write a function that asks for an integer and prints the square of it. Use a <code>while</code> loop with a <code>try</code>, <code>except</code>, <code>else</code> block to account for incorrect inputs."
   ]
  },
  {
   "cell_type": "code",
   "execution_count": 7,
   "metadata": {},
   "outputs": [],
   "source": [
    "def ask():\n",
    "    while True:\n",
    "        try:\n",
    "            n=int(input('Enter Int'))\n",
    "        except:\n",
    "            print('there is an error')\n",
    "            continue\n",
    "        else:\n",
    "            print(n ** 2)\n",
    "            break\n",
    "    "
   ]
  },
  {
   "cell_type": "code",
   "execution_count": 9,
   "metadata": {},
   "outputs": [
    {
     "name": "stdout",
     "output_type": "stream",
     "text": [
      "Enter Inta\n",
      "there is an error\n",
      "Enter Inta\n",
      "there is an error\n",
      "Enter Inta\n",
      "there is an error\n",
      "Enter Inta\n",
      "there is an error\n",
      "Enter Inta\n",
      "there is an error\n",
      "Enter Int18\n",
      "324\n"
     ]
    }
   ],
   "source": [
    "ask()"
   ]
  },
  {
   "cell_type": "markdown",
   "metadata": {},
   "source": [
    "# Great Job!"
   ]
  }
 ],
 "metadata": {
  "kernelspec": {
   "display_name": "Python 3",
   "language": "python",
   "name": "python3"
  },
  "language_info": {
   "codemirror_mode": {
    "name": "ipython",
    "version": 3
   },
   "file_extension": ".py",
   "mimetype": "text/x-python",
   "name": "python",
   "nbconvert_exporter": "python",
   "pygments_lexer": "ipython3",
   "version": "3.7.1"
  }
 },
 "nbformat": 4,
 "nbformat_minor": 1
}
