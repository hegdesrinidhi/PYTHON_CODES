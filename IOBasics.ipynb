{
 "cells": [
  {
   "cell_type": "code",
   "execution_count": 1,
   "metadata": {},
   "outputs": [
    {
     "name": "stdout",
     "output_type": "stream",
     "text": [
      "this is new\n"
     ]
    }
   ],
   "source": [
    "print(\"this is new\")"
   ]
  },
  {
   "cell_type": "markdown",
   "metadata": {},
   "source": [
    "IO Basics"
   ]
  },
  {
   "cell_type": "code",
   "execution_count": 35,
   "metadata": {},
   "outputs": [
    {
     "name": "stdout",
     "output_type": "stream",
     "text": [
      "Overwriting file.txt\n"
     ]
    }
   ],
   "source": [
    "%%writefile file.txt\n",
    "this is first line\n",
    "this is 2nd line\n",
    "this is the third\n"
   ]
  },
  {
   "cell_type": "code",
   "execution_count": 5,
   "metadata": {},
   "outputs": [],
   "source": [
    "myfile = open('file.txt')\n"
   ]
  },
  {
   "cell_type": "code",
   "execution_count": 8,
   "metadata": {},
   "outputs": [
    {
     "data": {
      "text/plain": [
       "0"
      ]
     },
     "execution_count": 8,
     "metadata": {},
     "output_type": "execute_result"
    }
   ],
   "source": [
    "myfile.read()\n",
    "myfile.seek(0)\n",
    "\n",
    "\n"
   ]
  },
  {
   "cell_type": "code",
   "execution_count": 9,
   "metadata": {},
   "outputs": [
    {
     "data": {
      "text/plain": [
       "'this is first line\\nthis is 2nd line\\nthis is the third\\n'"
      ]
     },
     "execution_count": 9,
     "metadata": {},
     "output_type": "execute_result"
    }
   ],
   "source": [
    "myfile.read()\n"
   ]
  },
  {
   "cell_type": "code",
   "execution_count": 10,
   "metadata": {},
   "outputs": [
    {
     "data": {
      "text/plain": [
       "0"
      ]
     },
     "execution_count": 10,
     "metadata": {},
     "output_type": "execute_result"
    }
   ],
   "source": [
    "myfile.seek(0)\n"
   ]
  },
  {
   "cell_type": "code",
   "execution_count": 11,
   "metadata": {},
   "outputs": [
    {
     "data": {
      "text/plain": [
       "['this is first line\\n', 'this is 2nd line\\n', 'this is the third\\n']"
      ]
     },
     "execution_count": 11,
     "metadata": {},
     "output_type": "execute_result"
    }
   ],
   "source": [
    "myfile.readlines()"
   ]
  },
  {
   "cell_type": "markdown",
   "metadata": {},
   "source": [
    "myfile.readline()[0]"
   ]
  },
  {
   "cell_type": "code",
   "execution_count": 12,
   "metadata": {},
   "outputs": [
    {
     "data": {
      "text/plain": [
       "[]"
      ]
     },
     "execution_count": 12,
     "metadata": {},
     "output_type": "execute_result"
    }
   ],
   "source": [
    "myfile.readlines()"
   ]
  },
  {
   "cell_type": "code",
   "execution_count": 13,
   "metadata": {},
   "outputs": [
    {
     "data": {
      "text/plain": [
       "['this is first line\\n', 'this is 2nd line\\n', 'this is the third\\n']"
      ]
     },
     "execution_count": 13,
     "metadata": {},
     "output_type": "execute_result"
    }
   ],
   "source": [
    "myfile.seek(0)\n",
    "myfile.readlines()"
   ]
  },
  {
   "cell_type": "code",
   "execution_count": 14,
   "metadata": {},
   "outputs": [
    {
     "data": {
      "text/plain": [
       "'C:\\\\Users\\\\srini\\\\Documents\\\\Code\\\\Synechron-Udemy_learning\\\\Python'"
      ]
     },
     "execution_count": 14,
     "metadata": {},
     "output_type": "execute_result"
    }
   ],
   "source": [
    "pwd\n"
   ]
  },
  {
   "cell_type": "markdown",
   "metadata": {},
   "source": [
    "myfile.close()"
   ]
  },
  {
   "cell_type": "code",
   "execution_count": 17,
   "metadata": {},
   "outputs": [],
   "source": [
    "myfile.close()"
   ]
  },
  {
   "cell_type": "code",
   "execution_count": 26,
   "metadata": {},
   "outputs": [],
   "source": [
    "with open('file.txt') as newfile:\n",
    "    contents=newfile.readlines()\n",
    "    "
   ]
  },
  {
   "cell_type": "code",
   "execution_count": 21,
   "metadata": {
    "scrolled": true
   },
   "outputs": [
    {
     "data": {
      "text/plain": [
       "['this is first line\\n', 'this is 2nd line\\n', 'this is the third\\n']"
      ]
     },
     "execution_count": 21,
     "metadata": {},
     "output_type": "execute_result"
    }
   ],
   "source": [
    "contents\n"
   ]
  },
  {
   "cell_type": "code",
   "execution_count": 62,
   "metadata": {},
   "outputs": [
    {
     "name": "stdout",
     "output_type": "stream",
     "text": [
      "new lineten\n"
     ]
    }
   ],
   "source": [
    "with open('file.txt',mode='r') as readfile:\n",
    "    print(readfile.read())"
   ]
  },
  {
   "cell_type": "code",
   "execution_count": 41,
   "metadata": {},
   "outputs": [],
   "source": [
    "with open('file.txt',mode ='a') as fw:\n",
    "    fw.write('fourthline')"
   ]
  },
  {
   "cell_type": "code",
   "execution_count": 63,
   "metadata": {},
   "outputs": [],
   "source": [
    "with open('file.txt','w') as f:\n",
    "    f.write('overwritten')"
   ]
  },
  {
   "cell_type": "code",
   "execution_count": 72,
   "metadata": {},
   "outputs": [
    {
     "name": "stdout",
     "output_type": "stream",
     "text": [
      "c\n"
     ]
    }
   ],
   "source": [
    "print (chr(ord('b')+1))"
   ]
  },
  {
   "cell_type": "code",
   "execution_count": 77,
   "metadata": {
    "scrolled": false
   },
   "outputs": [
    {
     "name": "stdout",
     "output_type": "stream",
     "text": [
      "g fmnc wms bgblr rpylqjyrc gr zw fylb. rfyrq ufyr amknsrcpq ypc dmp. bmgle gr gl zw fylb gq glcddgagclr ylb rfyr'q ufw rfgq rcvr gq qm jmle. sqgle qrpgle.kyicrpylq() gq pcamkkclbcb. lmu ynnjw ml rfc spj.\n",
      "i\n",
      "\"\n",
      "h\n",
      "o\n",
      "p\n",
      "e\n",
      "\"\n",
      "y\n",
      "o\n",
      "u\n",
      "\"\n",
      "d\n",
      "i\n",
      "d\n",
      "n\n",
      "t\n",
      "\"\n",
      "t\n",
      "r\n",
      "{\n",
      "n\n",
      "s\n",
      "l\n",
      "{\n",
      "t\n",
      "e\n",
      "\"\n",
      "i\n",
      "t\n",
      "\"\n",
      "|\n",
      "y\n",
      "\"\n",
      "h\n",
      "{\n",
      "n\n",
      "d\n",
      "0\n",
      "\"\n",
      "t\n",
      "h\n",
      "{\n",
      "t\n",
      "s\n",
      "\"\n",
      "w\n",
      "h\n",
      "{\n",
      "t\n",
      "\"\n",
      "c\n",
      "o\n",
      "m\n",
      "p\n",
      "u\n",
      "t\n",
      "e\n",
      "r\n",
      "s\n",
      "\"\n",
      "{\n",
      "r\n",
      "e\n",
      "\"\n",
      "f\n",
      "o\n",
      "r\n",
      "0\n",
      "\"\n",
      "d\n",
      "o\n",
      "i\n",
      "n\n",
      "g\n",
      "\"\n",
      "i\n",
      "t\n",
      "\"\n",
      "i\n",
      "n\n",
      "\"\n",
      "|\n",
      "y\n",
      "\"\n",
      "h\n",
      "{\n",
      "n\n",
      "d\n",
      "\"\n",
      "i\n",
      "s\n",
      "\"\n",
      "i\n",
      "n\n",
      "e\n",
      "f\n",
      "f\n",
      "i\n",
      "c\n",
      "i\n",
      "e\n",
      "n\n",
      "t\n",
      "\"\n",
      "{\n",
      "n\n",
      "d\n",
      "\"\n",
      "t\n",
      "h\n",
      "{\n",
      "t\n",
      ")\n",
      "s\n",
      "\"\n",
      "w\n",
      "h\n",
      "y\n",
      "\"\n",
      "t\n",
      "h\n",
      "i\n",
      "s\n",
      "\"\n",
      "t\n",
      "e\n",
      "x\n",
      "t\n",
      "\"\n",
      "i\n",
      "s\n",
      "\"\n",
      "s\n",
      "o\n",
      "\"\n",
      "l\n",
      "o\n",
      "n\n",
      "g\n",
      "0\n",
      "\"\n",
      "u\n",
      "s\n",
      "i\n",
      "n\n",
      "g\n",
      "\"\n",
      "s\n",
      "t\n",
      "r\n",
      "i\n",
      "n\n",
      "g\n",
      "0\n",
      "m\n",
      "{\n",
      "k\n",
      "e\n",
      "t\n",
      "r\n",
      "{\n",
      "n\n",
      "s\n",
      "*\n",
      "+\n",
      "\"\n",
      "i\n",
      "s\n",
      "\"\n",
      "r\n",
      "e\n",
      "c\n",
      "o\n",
      "m\n",
      "m\n",
      "e\n",
      "n\n",
      "d\n",
      "e\n",
      "d\n",
      "0\n",
      "\"\n",
      "n\n",
      "o\n",
      "w\n",
      "\"\n",
      "{\n",
      "p\n",
      "p\n",
      "l\n",
      "y\n",
      "\"\n",
      "o\n",
      "n\n",
      "\"\n",
      "t\n",
      "h\n",
      "e\n",
      "\"\n",
      "u\n",
      "r\n",
      "l\n",
      "0\n"
     ]
    }
   ],
   "source": [
    "a=\"g fmnc wms bgblr rpylqjyrc gr zw fylb. rfyrq ufyr amknsrcpq ypc dmp. bmgle gr gl zw fylb gq glcddgagclr ylb rfyr'q ufw rfgq rcvr gq qm jmle. sqgle qrpgle.kyicrpylq() gq pcamkkclbcb. lmu ynnjw ml rfc spj.\"\n",
    "print(a)\n",
    "for item in a:\n",
    "    print(chr(ord(item)+2))"
   ]
  },
  {
   "cell_type": "code",
   "execution_count": 61,
   "metadata": {},
   "outputs": [],
   "source": [
    "with open ('file.txt','r+') as f:\n",
    "    f.write('new line')"
   ]
  }
 ],
 "metadata": {
  "kernelspec": {
   "display_name": "Python 3",
   "language": "python",
   "name": "python3"
  },
  "language_info": {
   "codemirror_mode": {
    "name": "ipython",
    "version": 3
   },
   "file_extension": ".py",
   "mimetype": "text/x-python",
   "name": "python",
   "nbconvert_exporter": "python",
   "pygments_lexer": "ipython3",
   "version": "3.7.1"
  }
 },
 "nbformat": 4,
 "nbformat_minor": 2
}
