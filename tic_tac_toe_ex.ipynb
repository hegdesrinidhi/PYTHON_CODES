{
 "cells": [
  {
   "cell_type": "markdown",
   "metadata": {},
   "source": [
    "tic tac toe"
   ]
  },
  {
   "cell_type": "code",
   "execution_count": null,
   "metadata": {},
   "outputs": [],
   "source": [
    "array_position=['  '] * 9\n"
   ]
  },
  {
   "cell_type": "code",
   "execution_count": 3,
   "metadata": {},
   "outputs": [],
   "source": [
    "def check_win(char):\n",
    "    return (array_position[0:2]==(char *3) or array_position[3:5]==(char *3) or  \n",
    "    array_position[6:8]==(char *3) or\n",
    "    (array_position[0]==char and array_position[3]==char and array_position[6]==char) \n",
    "    or\n",
    "    (array_position[1]==char and array_position[4]==char and array_position[7]==char)\n",
    "    or\n",
    "    (array_position[2]==char and array_position[5]==char and array_position[8]==char)\n",
    "    or\n",
    "    (array_position[0]==char and array_position[4]==char and array_position[8]==char)\n",
    "    or\n",
    "    (array_position[2]==char and array_position[4]==char and array_position[6]==char)\n",
    "           )"
   ]
  },
  {
   "cell_type": "code",
   "execution_count": null,
   "metadata": {},
   "outputs": [],
   "source": [
    "char='X'\n",
    "char *3"
   ]
  },
  {
   "cell_type": "code",
   "execution_count": null,
   "metadata": {},
   "outputs": [],
   "source": [
    "player_1=input(\"Player 1: Enter your position: \")"
   ]
  },
  {
   "cell_type": "code",
   "execution_count": null,
   "metadata": {},
   "outputs": [],
   "source": [
    "print(player_1)"
   ]
  },
  {
   "cell_type": "code",
   "execution_count": null,
   "metadata": {},
   "outputs": [],
   "source": [
    "array_position[0]='X'"
   ]
  },
  {
   "cell_type": "code",
   "execution_count": 4,
   "metadata": {},
   "outputs": [],
   "source": [
    "def matrix():\n",
    "    print(\"-------------------------------------------------------------------\")\n",
    "    print(\"\\t\" + array_position[6] + \"\\t|\\t\" +array_position[7] + \"\\t|\\t\" + array_position[8])\n",
    "    print(\"-------------------------------------------------------------------\")\n",
    "    print(\"\\t\" + array_position[3] + \"\\t|\\t\" +array_position[4] + \"\\t|\\t\" + array_position[5])\n",
    "    print(\"-------------------------------------------------------------------\")\n",
    "    print(\"\\t\" + array_position[0] + \"\\t|\\t\" +array_position[1] + \"\\t|\\t\" + array_position[2])\n",
    "    print(\"-------------------------------------------------------------------\")\n"
   ]
  },
  {
   "cell_type": "code",
   "execution_count": null,
   "metadata": {},
   "outputs": [],
   "source": []
  },
  {
   "cell_type": "code",
   "execution_count": null,
   "metadata": {},
   "outputs": [],
   "source": [
    "matrix()"
   ]
  },
  {
   "cell_type": "code",
   "execution_count": null,
   "metadata": {},
   "outputs": [],
   "source": [
    "p1_symbol=input(\"Player 1: Enter your Symbol 'X' or 'O'\")"
   ]
  },
  {
   "cell_type": "code",
   "execution_count": null,
   "metadata": {},
   "outputs": [],
   "source": [
    "print(f\"Player 1 Symbol is {p1_symbol}\")"
   ]
  },
  {
   "cell_type": "code",
   "execution_count": null,
   "metadata": {},
   "outputs": [],
   "source": [
    "p2_symbol= 'O' if p1_symbol=='X'else 'X'\n",
    "    \n"
   ]
  },
  {
   "cell_type": "code",
   "execution_count": 5,
   "metadata": {},
   "outputs": [],
   "source": [
    "def update_pos(player,pos):\n",
    "    pos=pos-1\n",
    "    if (player == 1):\n",
    "        array_position[pos]='X' \n",
    "    else:\n",
    "        array_position[pos]='O'\n",
    "    matrix()"
   ]
  },
  {
   "cell_type": "code",
   "execution_count": 10,
   "metadata": {},
   "outputs": [],
   "source": [
    "def check_valid_game(pos):\n",
    "    if (pos >= 1 and pos <= 9):\n",
    "        pos = pos -1\n",
    "        if array_position[pos]=='  ':\n",
    "            return true\n",
    "    return False\n",
    "    "
   ]
  },
  {
   "cell_type": "code",
   "execution_count": 7,
   "metadata": {},
   "outputs": [
    {
     "name": "stdout",
     "output_type": "stream",
     "text": [
      "Player 1: Enter your Symbol 'X' or 'O'O\n",
      "-------------------------------------------------------------------\n",
      "\t  \t|\t  \t|\t  \n",
      "-------------------------------------------------------------------\n",
      "\t  \t|\t  \t|\t  \n",
      "-------------------------------------------------------------------\n",
      "\t  \t|\t  \t|\t  \n",
      "-------------------------------------------------------------------\n",
      "Player 1: Enter your position: 1\n",
      "-------------------------------------------------------------------\n",
      "\t  \t|\t  \t|\t  \n",
      "-------------------------------------------------------------------\n",
      "\t  \t|\t  \t|\t  \n",
      "-------------------------------------------------------------------\n",
      "\tX\t|\t  \t|\t  \n",
      "-------------------------------------------------------------------\n",
      "Player 2: Enter your position: 2\n",
      "-------------------------------------------------------------------\n",
      "\t  \t|\t  \t|\t  \n",
      "-------------------------------------------------------------------\n",
      "\t  \t|\t  \t|\t  \n",
      "-------------------------------------------------------------------\n",
      "\tX\t|\tO\t|\t  \n",
      "-------------------------------------------------------------------\n",
      "-------------------------------------------------------------------\n",
      "\t  \t|\t  \t|\t  \n",
      "-------------------------------------------------------------------\n",
      "\t  \t|\t  \t|\t  \n",
      "-------------------------------------------------------------------\n",
      "\tX\t|\tO\t|\t  \n",
      "-------------------------------------------------------------------\n",
      "Player 1: Enter your position: 3\n",
      "-------------------------------------------------------------------\n",
      "\t  \t|\t  \t|\t  \n",
      "-------------------------------------------------------------------\n",
      "\t  \t|\t  \t|\t  \n",
      "-------------------------------------------------------------------\n",
      "\tX\t|\tO\t|\tX\n",
      "-------------------------------------------------------------------\n",
      "Player 2: Enter your position: 4\n",
      "-------------------------------------------------------------------\n",
      "\t  \t|\t  \t|\t  \n",
      "-------------------------------------------------------------------\n",
      "\tO\t|\t  \t|\t  \n",
      "-------------------------------------------------------------------\n",
      "\tX\t|\tO\t|\tX\n",
      "-------------------------------------------------------------------\n",
      "-------------------------------------------------------------------\n",
      "\t  \t|\t  \t|\t  \n",
      "-------------------------------------------------------------------\n",
      "\tO\t|\t  \t|\t  \n",
      "-------------------------------------------------------------------\n",
      "\tX\t|\tO\t|\tX\n",
      "-------------------------------------------------------------------\n",
      "Player 1: Enter your position: 5\n",
      "-------------------------------------------------------------------\n",
      "\t  \t|\t  \t|\t  \n",
      "-------------------------------------------------------------------\n",
      "\tO\t|\tX\t|\t  \n",
      "-------------------------------------------------------------------\n",
      "\tX\t|\tO\t|\tX\n",
      "-------------------------------------------------------------------\n",
      "Player 2: Enter your position: 6\n",
      "-------------------------------------------------------------------\n",
      "\t  \t|\t  \t|\t  \n",
      "-------------------------------------------------------------------\n",
      "\tO\t|\tX\t|\tO\n",
      "-------------------------------------------------------------------\n",
      "\tX\t|\tO\t|\tX\n",
      "-------------------------------------------------------------------\n",
      "-------------------------------------------------------------------\n",
      "\t  \t|\t  \t|\t  \n",
      "-------------------------------------------------------------------\n",
      "\tO\t|\tX\t|\tO\n",
      "-------------------------------------------------------------------\n",
      "\tX\t|\tO\t|\tX\n",
      "-------------------------------------------------------------------\n",
      "Player 1: Enter your position: 7\n",
      "-------------------------------------------------------------------\n",
      "\tX\t|\t  \t|\t  \n",
      "-------------------------------------------------------------------\n",
      "\tO\t|\tX\t|\tO\n",
      "-------------------------------------------------------------------\n",
      "\tX\t|\tO\t|\tX\n",
      "-------------------------------------------------------------------\n",
      "Player 2: Enter your position: 8\n",
      "-------------------------------------------------------------------\n",
      "\tX\t|\tO\t|\t  \n",
      "-------------------------------------------------------------------\n",
      "\tO\t|\tX\t|\tO\n",
      "-------------------------------------------------------------------\n",
      "\tX\t|\tO\t|\tX\n",
      "-------------------------------------------------------------------\n",
      "Player 2 - Won\n"
     ]
    }
   ],
   "source": [
    "x=0\n",
    "array_position=['  '] * 9\n",
    "p1_symbol=input(\"Player 1: Enter your Symbol 'X' or 'O'\")\n",
    "p2_symbol= 'O' if p1_symbol=='X'else 'X'\n",
    "while x < 9:\n",
    "    matrix()\n",
    "    player_1=int(input(\"Player 1: Enter your position: \"))\n",
    "    check_valid_game(player_1)\n",
    "    update_pos(1,player_1)\n",
    "    \n",
    "    if check_win(p1_symbol):\n",
    "        print(\"Player 1 - Won\")\n",
    "        break\n",
    "    player_2=int(input(\"Player 2: Enter your position: \"))\n",
    "    update_pos(2,player_2)\n",
    "    \n",
    "    if check_win(p2_symbol):\n",
    "        print(\"Player 2 - Won\")\n",
    "        break\n",
    "    x=x+1\n",
    "    if (x==9):\n",
    "        print (\"no Wins, Try Again\")\n",
    "    "
   ]
  }
 ],
 "metadata": {
  "kernelspec": {
   "display_name": "Python 3",
   "language": "python",
   "name": "python3"
  },
  "language_info": {
   "codemirror_mode": {
    "name": "ipython",
    "version": 3
   },
   "file_extension": ".py",
   "mimetype": "text/x-python",
   "name": "python",
   "nbconvert_exporter": "python",
   "pygments_lexer": "ipython3",
   "version": "3.7.1"
  }
 },
 "nbformat": 4,
 "nbformat_minor": 2
}
