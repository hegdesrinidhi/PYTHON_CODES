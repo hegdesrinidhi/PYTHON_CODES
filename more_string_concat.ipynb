{
 "cells": [
  {
   "cell_type": "code",
   "execution_count": 1,
   "metadata": {},
   "outputs": [
    {
     "name": "stdout",
     "output_type": "stream",
     "text": [
      "Hello Python\n",
      "Hello Python Its beautiful\n"
     ]
    }
   ],
   "source": [
    "name=\"Hello Python\"\n",
    "print(name)\n",
    "p=\" Its beautiful\"\n",
    "print (name + p)"
   ]
  },
  {
   "cell_type": "code",
   "execution_count": 4,
   "metadata": {},
   "outputs": [
    {
     "name": "stdout",
     "output_type": "stream",
     "text": [
      "12\n"
     ]
    }
   ],
   "source": [
    "x='1'\n",
    "y='2'\n",
    "print (x + y\n",
    "      )"
   ]
  },
  {
   "cell_type": "code",
   "execution_count": 7,
   "metadata": {},
   "outputs": [
    {
     "name": "stdout",
     "output_type": "stream",
     "text": [
      "HELLO PYTHON\n"
     ]
    }
   ],
   "source": [
    "print (name\n",
    "    .upper())"
   ]
  },
  {
   "cell_type": "code",
   "execution_count": 9,
   "metadata": {},
   "outputs": [
    {
     "name": "stdout",
     "output_type": "stream",
     "text": [
      "Hello Python Its beautiful\n",
      "['Hello', 'Python', 'Its', 'beautiful']\n",
      "['Hello Python Its beaut', 'ful']\n"
     ]
    }
   ],
   "source": [
    "concat=name + p\n",
    "print(concat)\n",
    "print(concat.split())\n",
    "print(concat.split('i'))"
   ]
  },
  {
   "cell_type": "code",
   "execution_count": 21,
   "metadata": {},
   "outputs": [
    {
     "name": "stdout",
     "output_type": "stream",
     "text": [
      "this is  printing\n",
      "printing : Name : Mike, Age : 10\n",
      "printing : Age : 10, Name : Mike\n",
      "printing name: Mke , age: 10, and address: 12345\n"
     ]
    }
   ],
   "source": [
    "print (\"this is {}\".format(' printing'))\n",
    "print(\"printing : Name : {}, Age : {}\".format('Mike',10))\n",
    "print(\"printing : Age : {1}, Name : {0}\".format('Mike',10))\n",
    "print (\"printing name: {n} , age: {a}, and address: {A}\".format(n=\"Mke\",A=\"12345\",a=10))"
   ]
  },
  {
   "cell_type": "markdown",
   "metadata": {},
   "source": [
    "flating - value , width, position"
   ]
  },
  {
   "cell_type": "code",
   "execution_count": 32,
   "metadata": {},
   "outputs": [
    {
     "name": "stdout",
     "output_type": "stream",
     "text": [
      "0.9230769230769231\n",
      "the result is 0.9230769230769231\n",
      "the result is 0.9230769230769231\n",
      "the result is 0.923\n",
      "the result is    0.923\n",
      "the result is   0.9231\n"
     ]
    }
   ],
   "source": [
    "flt=12/13\n",
    "print (flt)\n",
    "print (\"the result is {}\".format(flt))\n",
    "print (\"the result is {f}\".format(f=flt))\n",
    "print (\"the result is {n:1.3f}\".format(n=flt))\n",
    "print (\"the result is {n:8.3f}\".format(n=flt))\n",
    "print (\"the result is {n:8.4f}\".format(n=flt))"
   ]
  },
  {
   "cell_type": "markdown",
   "metadata": {},
   "source": [
    "f string format for printing\n"
   ]
  },
  {
   "cell_type": "code",
   "execution_count": 40,
   "metadata": {},
   "outputs": [
    {
     "name": "stdout",
     "output_type": "stream",
     "text": [
      "Hi, This is Mike\n",
      "Name is Mike and Age is 10\n",
      "0.9230769230769231\n",
      "floating  print 0.923\n"
     ]
    }
   ],
   "source": [
    "print (f'Hi, This is {name}')\n",
    "name='Mike'\n",
    "age=10\n",
    "print (f'Name is {name} and Age is {age}')\n",
    "print (flt)\n",
    "print (f'floating  print {flt:{1}.{3}}')"
   ]
  },
  {
   "cell_type": "markdown",
   "metadata": {},
   "source": [
    "Alight left/right\n"
   ]
  },
  {
   "cell_type": "code",
   "execution_count": 47,
   "metadata": {},
   "outputs": [
    {
     "name": "stdout",
     "output_type": "stream",
     "text": [
      "Mike    \n",
      "    Mike\n",
      "  Mike  \n"
     ]
    }
   ],
   "source": [
    "print ('{0:8}'.format(name))\n",
    "print ('{0:>8}'.format(name))\n",
    "print ('{0:^8}'.format(name))\n"
   ]
  }
 ],
 "metadata": {
  "kernelspec": {
   "display_name": "Python 3",
   "language": "python",
   "name": "python3"
  },
  "language_info": {
   "codemirror_mode": {
    "name": "ipython",
    "version": 3
   },
   "file_extension": ".py",
   "mimetype": "text/x-python",
   "name": "python",
   "nbconvert_exporter": "python",
   "pygments_lexer": "ipython3",
   "version": "3.7.1"
  }
 },
 "nbformat": 4,
 "nbformat_minor": 2
}
